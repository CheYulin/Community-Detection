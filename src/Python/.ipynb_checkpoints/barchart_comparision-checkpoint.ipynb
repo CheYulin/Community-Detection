{
 "cells": [
  {
   "cell_type": "code",
   "execution_count": null,
   "metadata": {
    "collapsed": false
   },
   "outputs": [],
   "source": [
    "import numpy as np\n",
    "import matplotlib.pyplot as plt\n",
    "import math\n",
    "\n",
    "fileName = '/Users/ssunah/gitchina/Community-Detection/results/IterationResultBeforeRemovingTailor/road_iteration_result_old.iter'\n",
    "\n",
    "dOld = {}\n",
    "\n",
    "with open(fileName) as f:\n",
    "    for line in f:\n",
    "       (key, val) = line.split()\n",
    "       dOld[int(key)] = val\n",
    "\n",
    "fileName = '/Users/ssunah/gitchina/Community-Detection/results/IterationResultBeforeRemovingTailor/road_iteration_result_new.iter'\n",
    "\n",
    "dNew = {}\n",
    "\n",
    "with open(fileName) as f:\n",
    "    for line in f:\n",
    "       (key, val) = line.split()\n",
    "       dNew[int(key)] = val"
   ]
  },
  {
   "cell_type": "code",
   "execution_count": null,
   "metadata": {
    "collapsed": false
   },
   "outputs": [],
   "source": [
    "\n"
   ]
  },
  {
   "cell_type": "code",
   "execution_count": 17,
   "metadata": {
    "collapsed": false
   },
   "outputs": [],
   "source": [
    "plt.figure(figsize=(10,8))\n",
    "ax = plt.subplot()\n",
    "\n",
    "N = 4\n",
    "menMeans = (20, 35, 30, 35)\n",
    "\n",
    "ind = np.arange(N) # the x locations for the groups\n",
    "width = 0.35       # the width of the bars\n",
    "\n",
    "rects1 = ax.bar(ind, menMeans, width, color='blue')\n",
    "\n",
    "womenMeans = (25, 32, 34, 20)\n",
    "rects2 = ax.bar(ind + width, womenMeans, width, color='green')\n",
    "\n",
    "# add some text for labels, title and axes ticks\n",
    "ax.set_ylabel('Execution Time(s)')\n",
    "ax.set_title('Execution Time on Large Datasets')\n",
    "\n",
    "ax.set_xticks(ind + width)\n",
    "ax.set_xticklabels(('Amazon', 'Collaboration', 'Friendship', 'Road'))\n",
    "ax.set_ylim(0, 41)\n",
    "ax.legend((rects1[0], rects2[0]), ('Attractor', 'I-Attractor'))\n",
    "\n",
    "\n",
    "def autolabel(rects):\n",
    "    # attach some text labels\n",
    "    for rect in rects:\n",
    "        height = rect.get_height()\n",
    "        ax.text(rect.get_x() + rect.get_width()/2., 1.05*height,\n",
    "                '%d' % int(height),\n",
    "                ha='center', va='bottom')\n",
    "\n",
    "autolabel(rects1)\n",
    "autolabel(rects2)\n",
    "\n",
    "plt.show()\n"
   ]
  },
  {
   "cell_type": "code",
   "execution_count": 16,
   "metadata": {
    "collapsed": false
   },
   "outputs": [
    {
     "data": {
      "text/plain": [
       "list"
      ]
     },
     "execution_count": 16,
     "metadata": {},
     "output_type": "execute_result"
    }
   ],
   "source": [
    "\n"
   ]
  },
  {
   "cell_type": "code",
   "execution_count": null,
   "metadata": {
    "collapsed": false
   },
   "outputs": [],
   "source": []
  },
  {
   "cell_type": "code",
   "execution_count": null,
   "metadata": {
    "collapsed": true
   },
   "outputs": [],
   "source": []
  }
 ],
 "metadata": {
  "kernelspec": {
   "display_name": "Python 2",
   "language": "python",
   "name": "python2"
  },
  "language_info": {
   "codemirror_mode": {
    "name": "ipython",
    "version": 2
   },
   "file_extension": ".py",
   "mimetype": "text/x-python",
   "name": "python",
   "nbconvert_exporter": "python",
   "pygments_lexer": "ipython2",
   "version": "2.7.10"
  }
 },
 "nbformat": 4,
 "nbformat_minor": 0
}

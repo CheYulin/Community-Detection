{
 "cells": [
  {
   "cell_type": "code",
   "execution_count": 54,
   "metadata": {
    "collapsed": true
   },
   "outputs": [],
   "source": [
    "import networkx as nx"
   ]
  },
  {
   "cell_type": "code",
   "execution_count": 55,
   "metadata": {
    "collapsed": true
   },
   "outputs": [],
   "source": [
    "import community"
   ]
  },
  {
   "cell_type": "code",
   "execution_count": 56,
   "metadata": {
    "collapsed": true
   },
   "outputs": [],
   "source": [
    "#data = {}"
   ]
  },
  {
   "cell_type": "code",
   "execution_count": 57,
   "metadata": {
    "collapsed": false
   },
   "outputs": [],
   "source": [
    "# with open('/Users/ssunah/testdata/debug/collaboration_mcl.clu') as f:\n",
    "    #for l in f:\n",
    "        #li= l.split()\n",
    "        #data[li[1]] = li[0]"
   ]
  },
  {
   "cell_type": "code",
   "execution_count": 59,
   "metadata": {
    "collapsed": false,
    "scrolled": true
   },
   "outputs": [
    {
     "name": "stdout",
     "output_type": "stream",
     "text": [
      "Begin\n",
      "0.419789612097\n"
     ]
    },
    {
     "data": {
      "text/plain": [
       "{u'1': 2,\n",
       " u'10': 1,\n",
       " u'11': 3,\n",
       " u'12': 2,\n",
       " u'13': 2,\n",
       " u'14': 2,\n",
       " u'15': 1,\n",
       " u'16': 1,\n",
       " u'17': 3,\n",
       " u'18': 2,\n",
       " u'19': 1,\n",
       " u'2': 2,\n",
       " u'20': 2,\n",
       " u'21': 1,\n",
       " u'22': 2,\n",
       " u'23': 1,\n",
       " u'24': 0,\n",
       " u'25': 0,\n",
       " u'26': 0,\n",
       " u'27': 1,\n",
       " u'28': 0,\n",
       " u'29': 0,\n",
       " u'3': 2,\n",
       " u'30': 1,\n",
       " u'31': 1,\n",
       " u'32': 0,\n",
       " u'33': 1,\n",
       " u'34': 1,\n",
       " u'4': 2,\n",
       " u'5': 3,\n",
       " u'6': 3,\n",
       " u'7': 3,\n",
       " u'8': 2,\n",
       " u'9': 1}"
      ]
     },
     "execution_count": 59,
     "metadata": {},
     "output_type": "execute_result"
    }
   ],
   "source": [
    "G = nx.Graph()\n",
    "G = nx.read_edgelist('/Users/ssunah/gitchina/Community-Detection/dataset/small/karate/karate_edges_input.csv')\n",
    "Partition = community.best_partition(G)\n",
    "print 'Begin'\n",
    "modularity = community.modularity(Partition, G)\n",
    "print modularity\n",
    "Partition"
   ]
  },
  {
   "cell_type": "code",
   "execution_count": 76,
   "metadata": {
    "collapsed": false
   },
   "outputs": [
    {
     "name": "stdout",
     "output_type": "stream",
     "text": [
      "24 0\n",
      "25 0\n",
      "26 0\n",
      "27 1\n",
      "20 2\n",
      "21 1\n",
      "22 2\n",
      "23 1\n",
      "28 0\n",
      "29 0\n",
      "1 2\n",
      "3 2\n",
      "2 2\n",
      "5 3\n",
      "4 2\n",
      "7 3\n",
      "6 3\n",
      "9 1\n",
      "8 2\n",
      "11 3\n",
      "10 1\n",
      "13 2\n",
      "12 2\n",
      "15 1\n",
      "14 2\n",
      "17 3\n",
      "16 1\n",
      "33 1\n",
      "18 2\n",
      "31 1\n",
      "30 1\n",
      "34 1\n",
      "19 1\n",
      "32 0\n"
     ]
    }
   ],
   "source": [
    "with open('/Users/ssunah/testdata/debug/karate.txt','wb+') as f:\n",
    "    for i in Partition:\n",
    "        print i,Partition[i]\n",
    "        f.write(str(Partition[i]) + \" \" + str(i) + '\\r\\n')\n",
    "        "
   ]
  },
  {
   "cell_type": "code",
   "execution_count": null,
   "metadata": {
    "collapsed": true
   },
   "outputs": [],
   "source": []
  }
 ],
 "metadata": {
  "kernelspec": {
   "display_name": "Python 2",
   "language": "python",
   "name": "python2"
  },
  "language_info": {
   "codemirror_mode": {
    "name": "ipython",
    "version": 2
   },
   "file_extension": ".py",
   "mimetype": "text/x-python",
   "name": "python",
   "nbconvert_exporter": "python",
   "pygments_lexer": "ipython2",
   "version": "2.7.10"
  }
 },
 "nbformat": 4,
 "nbformat_minor": 0
}

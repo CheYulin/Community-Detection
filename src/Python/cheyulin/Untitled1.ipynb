{
 "cells": [
  {
   "cell_type": "code",
   "execution_count": 1,
   "metadata": {
    "collapsed": true
   },
   "outputs": [],
   "source": [
    "import os\n",
    "import re\n",
    "def insert2Map(mymap,gtype,filename):\n",
    "    try:\n",
    "        mymap[gtype].append(filename)\n",
    "    except KeyError:\n",
    "        mymap[gtype]=[];\n",
    "        mymap[gtype].append(filename)\n",
    "    else:\n",
    "        pass\n",
    "    return"
   ]
  },
  {
   "cell_type": "code",
   "execution_count": 11,
   "metadata": {
    "collapsed": false
   },
   "outputs": [],
   "source": [
    "def getNewVal(path,val):\n",
    "    with open(path) as fs:\n",
    "        lines = fs.readlines()\n",
    "        ari=float(lines[0].split(\" \")[1])\n",
    "        invp=float(lines[1].split(\" \")[1])\n",
    "        nmi=float(lines[2].split(\" \")[1])\n",
    "        simp=float(lines[4].split(\" \")[1])\n",
    "        sum= ari + invp + nmi + simp\n",
    "        if(sum > val):\n",
    "            return sum\n",
    "        else:\n",
    "            return val\n",
    "    return"
   ]
  },
  {
   "cell_type": "code",
   "execution_count": 17,
   "metadata": {
    "collapsed": false
   },
   "outputs": [
    {
     "name": "stdout",
     "output_type": "stream",
     "text": [
      "rcg_0.4_measurement_mcl_1.60.s 4.0\n",
      "rpg_0.6_0.18_measurement_mcl_3.30.s 3.321268\n",
      "grpg_0.6_0.2_measurement_mcl_3.00.s 1.548345\n",
      "rcg_0.1_measurement_mcl_4.10.s 4.0\n",
      "rcg_0.2_measurement_mcl_1.40.s 4.0\n",
      "grpg_0.6_0.1_measurement_mcl_2.40.s 3.690755\n",
      "rcg_0.25_measurement_mcl_1.70.s 4.0\n",
      "rcg_0.3_measurement_mcl_2.10.s 4.0\n",
      "rcg_0.35_measurement_mcl_1.60.s 4.0\n",
      "rpg_0.6_0.16_measurement_mcl_3.20.s 3.329952\n",
      "grpg_0.6_0.18_measurement_mcl_2.90.s 1.942609\n",
      "rpg_0.6_0.2_measurement_mcl_3.30.s 3.098669\n",
      "grpg_0.6_0.16_measurement_mcl_2.70.s 1.745355\n",
      "grpg_0.6_0.14_measurement_mcl_2.70.s 2.19573\n",
      "rpg_0.6_0.14_measurement_mcl_2.90.s 3.439561\n",
      "rcg_0.15_measurement_mcl_1.40.s 4.0\n",
      "rpg_0.6_0.12_measurement_mcl_2.90.s 3.670793\n",
      "rpg_0.6_0.1_measurement_mcl_2.90.s 3.727192\n",
      "grpg_0.6_0.12_measurement_mcl_2.60.s 3.269585\n"
     ]
    }
   ],
   "source": [
    "\n",
    "myDir = \"/home/cheyulin/Community-Detection/dataset/synthetic/test_case_5\"\n",
    "files = os.listdir(myDir)\n",
    "mydict={}\n",
    "for myfile in files:\n",
    "    if re.match('.*measurement_mcl_[0-9]+.[0-9]+.*',myfile):\n",
    "        strings = myfile.split('_measurement_mcl_')\n",
    "        insert2Map(mydict, strings[0], myfile)\n",
    "\n",
    "\n",
    "\n",
    "for key in mydict:\n",
    "    filenames = mydict[key]\n",
    "    val = 0;\n",
    "    for filename in filenames:\n",
    "        newVal = getNewVal(myDir+\"/\"+filename, val)\n",
    "        if  newVal > val:\n",
    "            markfilename = filename\n",
    "            val = newVal\n",
    "    print markfilename + \" \" + str(val)\n",
    "    for filename in filenames:\n",
    "        if markfilename != filename:\n",
    "            os.remove(myDir+\"/\"+filename)\n"
   ]
  },
  {
   "cell_type": "code",
   "execution_count": null,
   "metadata": {
    "collapsed": true
   },
   "outputs": [],
   "source": []
  },
  {
   "cell_type": "code",
   "execution_count": null,
   "metadata": {
    "collapsed": true
   },
   "outputs": [],
   "source": []
  }
 ],
 "metadata": {
  "kernelspec": {
   "display_name": "Python 2",
   "language": "python",
   "name": "python2"
  },
  "language_info": {
   "codemirror_mode": {
    "name": "ipython",
    "version": 2
   },
   "file_extension": ".py",
   "mimetype": "text/x-python",
   "name": "python",
   "nbconvert_exporter": "python",
   "pygments_lexer": "ipython2",
   "version": "2.7.10"
  }
 },
 "nbformat": 4,
 "nbformat_minor": 0
}

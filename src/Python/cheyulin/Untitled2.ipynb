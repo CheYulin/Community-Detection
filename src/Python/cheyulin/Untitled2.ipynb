{
 "cells": [
  {
   "cell_type": "code",
   "execution_count": 38,
   "metadata": {
    "collapsed": false
   },
   "outputs": [
    {
     "name": "stdout",
     "output_type": "stream",
     "text": [
      "football\tinfomap.s\t0.8966\t0.9242\t2.1597\t0.9217 0.9304 \n",
      "football\tmcl.s\t0.8966\t0.9242\t2.1597\t0.9217 0.9304 \n",
      "football\tattractor\t0.8966\t0.9242\t2.1597\t0.9217 0.9304 \n",
      "football\tlouvain.s\t0.7071\t0.8561\t2.3349\t0.9217 0.8 \n",
      "polbooks\tattractor\t0.6917\t0.5917\t2.3913\t0.8 0.8762 \n",
      "polbooks\tmcl.s\t0.5936\t0.5209\t2.4958\t0.7524 0.8571 \n",
      "polbooks\tinfomap.s\t0.6463\t0.5369\t2.4603\t0.781 0.8476 \n",
      "polbooks\tlouvain.s\t0.6267\t0.5325\t2.4761\t0.7714 0.8476 \n",
      "karate\tmcl.s\t0.8823\t0.8365\t2.0606\t0.9706 0.9706 \n",
      "karate\tlouvain.s\t0.5414\t0.6873\t2.4783\t0.6765 1.0 \n",
      "karate\tattractor\t0.0\t0.0\t2.8889\t1.0 0.5294 \n",
      "karate\tinfomap.s\t0.7022\t0.6995\t2.2446\t0.8235 0.9706 \n"
     ]
    }
   ],
   "source": [
    "import os\n",
    "import re\n",
    "rootDir = \"/home/cheyulin/Community-Detection/dataset/small\"\n",
    "list_dirs = os.walk(rootDir) \n",
    "for root, dirs, files in list_dirs:\n",
    "#    for d in dirs:\n",
    "#        print os.path.join(root,d)\n",
    "    for f in files:  \n",
    "        if re.match('[^z].*measure',f) and  not re.match('.*test.*',f):\n",
    "            path = os.path.join(root,f)\n",
    "            algType = f.split('_')[2]\n",
    "            dataType = f.split('_')[0]\n",
    "            if re.match('.*rmtailor.*',f) or \\\n",
    "                re.match('.*0.[^5].*.s',f) or re.match('.*new.*',f)\\\n",
    "                or re.match('.*1.0.s',f) or re.match('.*attractor.s',f):\n",
    "                continue\n",
    "            #print path\n",
    "            with open(path) as fs:\n",
    "                lines = fs.readlines()\n",
    "                for line in lines:\n",
    "                    #print line\n",
    "                    if re.match('startTime.*',line):\n",
    "                        startTime = float(line.split(':')[1].split('ns')[0])\n",
    "                    elif re.match('endTime.*',line):\n",
    "                        endTime= float(line.split(':')[1].split('ns')[0])\n",
    "                    elif re.match('ARI',line):\n",
    "                        ari = float(line.split(' ')[1])\n",
    "                    elif re.match('InvPur',line):\n",
    "                        invp= float(line.split(' ')[1])\n",
    "                    elif re.match('NMI',line):\n",
    "                        nmi= float(line.split(' ')[1])\n",
    "                    elif re.match('SimPur',line):\n",
    "                        simp= float(line.split(' ')[1])\n",
    "                    else:\n",
    "                        pass\n",
    "                fmeasure = (invp+simp)/(invp*simp)\n",
    "                newline=  str(dataType) +\"\\t\" + str(algType)+\"\\t\"+str(round(ari,4))+\"\\t\"+ str(round(nmi,4)) +\"\\t\"+\\\n",
    "                str(round(fmeasure,4)) +\"\\t\" + str(round(invp,4))+\" \"+str(round(simp,4))+\" \"\n",
    "                print newline\n",
    "                "
   ]
  },
  {
   "cell_type": "code",
   "execution_count": 42,
   "metadata": {
    "collapsed": false
   },
   "outputs": [
    {
     "name": "stdout",
     "output_type": "stream",
     "text": [
      "road\tattractor\t0.0461631\t0.212218\n",
      "road\tmcl.us\t0.810127\t0.213883\n",
      "road\tinfomap.us\t0.719997\t0.29721\n",
      "road\tlouvain.us\t0.989237\t0.00414997\n",
      "amazon\tattractor\t0.616356\t0.631909\n",
      "amazon\tinfomap.us\t0.730214\t0.320684\n",
      "amazon\tmcl.us\t0.672538\t0.43965\n",
      "amazon\tattractor\t0.740763\t0.397637\n",
      "amazon\tlouvain.us\t0.92647\t0.0356867\n",
      "friendship\tmcl.us\t0.319\t0.602029\n",
      "friendship\tinfomap.us\t0.551262\t0.373556\n",
      "friendship\tlouvain.us\t0.682693\t0.0335332\n",
      "friendship\tattractor\t0.421924\t0.606952\n",
      "collaboration\tattractor\t0.586519\t0.467536\n",
      "collaboration\tlouvain.us\t0.76825\t0.0152892\n",
      "collaboration\tinfomap.us\t0.652185\t0.230582\n",
      "collaboration\tmcl.us\t0.53726\t0.410849\n",
      "collaboration\tattractor\t0.336795\t0.15896\n"
     ]
    }
   ],
   "source": [
    "import os\n",
    "import re\n",
    "rootDir = \"/home/cheyulin/Community-Detection/dataset/big\"\n",
    "list_dirs = os.walk(rootDir) \n",
    "for root, dirs, files in list_dirs:\n",
    "#    for d in dirs:\n",
    "#        print os.path.join(root,d)\n",
    "    for f in files:  \n",
    "        if re.match('[^z].*measure',f) and  not re.match('.*test.*',f):\n",
    "            path = os.path.join(root,f)\n",
    "            algType = f.split('_')[2]\n",
    "            dataType = f.split('_')[0]\n",
    "            if re.match('.*rmtailor.*',f) or \\\n",
    "                re.match('.*0.[^5].*.s',f) or re.match('.*new.*',f)\\\n",
    "                or re.match('.*1.0.s',f) or re.match('.*attractor.s',f):\n",
    "                continue\n",
    "            #print path\n",
    "            with open(path) as fs:\n",
    "                lines = fs.readlines()\n",
    "                for line in lines:\n",
    "                    #print line\n",
    "                    if re.match('Mod.*',line):\n",
    "                        Mod = float(line.split(' ')[1])\n",
    "                    elif re.match('Ncut.*',line):\n",
    "                        Ncut= float(line.split(' ')[1])\n",
    "                    else:\n",
    "                        pass\n",
    "                newline= str(dataType) + '\\t'+ str(algType)+ '\\t'+ str(Mod) +\"\\t\" + str(Ncut)\n",
    "                print newline\n",
    "                "
   ]
  },
  {
   "cell_type": "code",
   "execution_count": null,
   "metadata": {
    "collapsed": true
   },
   "outputs": [],
   "source": []
  }
 ],
 "metadata": {
  "kernelspec": {
   "display_name": "Python 2",
   "language": "python",
   "name": "python2"
  },
  "language_info": {
   "codemirror_mode": {
    "name": "ipython",
    "version": 2
   },
   "file_extension": ".py",
   "mimetype": "text/x-python",
   "name": "python",
   "nbconvert_exporter": "python",
   "pygments_lexer": "ipython2",
   "version": "2.7.10"
  }
 },
 "nbformat": 4,
 "nbformat_minor": 0
}

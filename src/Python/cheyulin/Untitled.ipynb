{
 "cells": [
  {
   "cell_type": "code",
   "execution_count": 1,
   "metadata": {
    "collapsed": true
   },
   "outputs": [],
   "source": [
    "import os\n",
    "import re"
   ]
  },
  {
   "cell_type": "code",
   "execution_count": 2,
   "metadata": {
    "collapsed": false
   },
   "outputs": [],
   "source": [
    "myDir = \"/home/cheyulin/Community-Detection/dataset/synthetic/test_case_5\"\n",
    "list = os.listdir(myDir)\n",
    "myContent=[]\n",
    "myContent.append('[p_out] [algorithm] [ari] [nmi] [fmeasure] [invp] [simp] [runtime]\\n')"
   ]
  },
  {
   "cell_type": "code",
   "execution_count": 3,
   "metadata": {
    "collapsed": false,
    "scrolled": true
   },
   "outputs": [
    {
     "name": "stdout",
     "output_type": "stream",
     "text": [
      "['[p_out] [algorithm] [ari] [nmi] [fmeasure] [invp] [simp] [runtime]\\n']\n"
     ]
    }
   ],
   "source": [
    "for file in list:\n",
    "    if re.match('rcg.*measurement.*', file):\n",
    "        path = str(myDir) + '/' + str(file)\n",
    "        strings = file.split('_')\n",
    "        pout = strings[1]\n",
    "        i=0\n",
    "        algType=''\n",
    "        for string in strings:\n",
    "            i+=1\n",
    "            if i<4:\n",
    "                continue\n",
    "            algType += string + '_'\n",
    "        algType= algType[0:len(algType)-3]\n",
    "        \n",
    "        if re.match('.*attractor_new_rmtailor_5.*',algType) or \\\n",
    "        re.match('.*attractor_new_rmtailor_0.[^5].*',algType):\n",
    "            continue\n",
    "        if re.match('.*attractor',algType):\n",
    "            algType='attractor'\n",
    "        with open(path) as fs:\n",
    "            lines = fs.readlines()\n",
    "            for line in lines:\n",
    "                endTime=0\n",
    "                #print line\n",
    "                if re.match('startTime.*',line):\n",
    "                    startTime = float(line.split(':')[1].split('ns')[0])\n",
    "                elif re.match('endTime.*',line):\n",
    "                    endTime= float(line.split(':')[1].split('ns')[0])\n",
    "                elif re.match('ARI',line):\n",
    "                    ari = float(line.split(' ')[1])\n",
    "                elif re.match('InvPur',line):\n",
    "                    invp= float(line.split(' ')[1])\n",
    "                elif re.match('NMI',line):\n",
    "                    nmi= float(line.split(' ')[1])\n",
    "                elif re.match('SimPur',line):\n",
    "                    simp= float(line.split(' ')[1])\n",
    "                else:\n",
    "                    pass\n",
    "            fmeasure = (invp+simp)/(invp*simp)\n",
    "            newline=  str(pout)+\" \"+str(algType)+\" \"+str(round(ari,4))+\" \"+ str(round(nmi,4)) +\" \"+\\\n",
    "            str(round(fmeasure,4)) +\" \" + str(round(invp,4))+\" \"+str(round(simp,4))+\" \"+\\\n",
    "            str(round(endTime-startTime,4))\n",
    "            myContent.append(newline+'\\n')\n",
    "print myContent\n",
    "        \n",
    "            "
   ]
  },
  {
   "cell_type": "code",
   "execution_count": 4,
   "metadata": {
    "collapsed": false
   },
   "outputs": [],
   "source": [
    "with open(str(myDir)+'/'+'z_measurement_sum.txt', 'w') as fs:\n",
    "        fs.writelines(myContent)"
   ]
  },
  {
   "cell_type": "code",
   "execution_count": null,
   "metadata": {
    "collapsed": true
   },
   "outputs": [],
   "source": []
  }
 ],
 "metadata": {
  "kernelspec": {
   "display_name": "Python 2",
   "language": "python",
   "name": "python2"
  },
  "language_info": {
   "codemirror_mode": {
    "name": "ipython",
    "version": 2
   },
   "file_extension": ".py",
   "mimetype": "text/x-python",
   "name": "python",
   "nbconvert_exporter": "python",
   "pygments_lexer": "ipython2",
   "version": "2.7.10"
  }
 },
 "nbformat": 4,
 "nbformat_minor": 0
}

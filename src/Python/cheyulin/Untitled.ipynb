{
 "cells": [
  {
   "cell_type": "code",
   "execution_count": 17,
   "metadata": {
    "collapsed": true
   },
   "outputs": [],
   "source": [
    "import os\n",
    "import re"
   ]
  },
  {
   "cell_type": "code",
   "execution_count": 18,
   "metadata": {
    "collapsed": false
   },
   "outputs": [],
   "source": [
    "myDir = \"/home/cheyulin/Community-Detection/dataset/synthetic/test_case_5\"\n",
    "list = os.listdir(myDir)\n",
    "myContent=[]\n",
    "myContent.append('[p_out] [algorithm] [ari] [nmi] [fmeasure] [invp] [simp] [runtime]\\n')"
   ]
  },
  {
   "cell_type": "code",
   "execution_count": 19,
   "metadata": {
    "collapsed": false,
    "scrolled": true
   },
   "outputs": [
    {
     "name": "stdout",
     "output_type": "stream",
     "text": [
      "['[p_out] [algorithm] [ari] [nmi] [fmeasure] [invp] [simp] [runtime]\\n', '0.15 mcl_1.40 1.0 1.0 2.0 1.0 1.0 0.0724\\n', '0.2 mcl_1.40 1.0 1.0 2.0 1.0 1.0 0.0948\\n', '0.35 mcl_1.60 1.0 1.0 2.0 1.0 1.0 0.0839\\n', '0.1 mcl_4.10 1.0 1.0 2.0 1.0 1.0 0.0158\\n', '0.25 mcl_1.70 1.0 1.0 2.0 1.0 1.0 0.0521\\n', '0.3 mcl_2.10 1.0 1.0 2.0 1.0 1.0 0.0394\\n', '0.25 louvain 1.0 1.0 2.0 1.0 1.0 0.0025\\n', '0.1 infomap 1.0 1.0 2.0 1.0 1.0 9.6241\\n', '0.15 attractor 1.0 1.0 2.0 1.0 1.0 0.2629\\n', '0.4 mcl_1.60 1.0 1.0 2.0 1.0 1.0 0.0867\\n', '0.2 attractor 1.0 1.0 2.0 1.0 1.0 0.3888\\n', '0.25 attractor 1.0 1.0 2.0 1.0 1.0 0.4311\\n', '0.1 attractor 1.0 1.0 2.0 1.0 1.0 0.2355\\n', '0.15 louvain 1.0 1.0 2.0 1.0 1.0 0.0025\\n', '0.4 attractor 1.0 1.0 2.0 1.0 1.0 0.7732\\n', '0.3 louvain 1.0 1.0 2.0 1.0 1.0 0.0035\\n', '0.3 infomap 1.0 1.0 2.0 1.0 1.0 10.045\\n', '0.4 louvain 1.0 1.0 2.0 1.0 1.0 0.0027\\n', '0.25 infomap 1.0 1.0 2.0 1.0 1.0 10.0193\\n', '0.2 louvain 1.0 1.0 2.0 1.0 1.0 0.0036\\n', '0.35 louvain 1.0 1.0 2.0 1.0 1.0 0.0028\\n', '0.35 infomap 1.0 1.0 2.0 1.0 1.0 10.476\\n', '0.4 infomap 1.0 1.0 2.0 1.0 1.0 10.402\\n', '0.3 attractor 1.0 1.0 2.0 1.0 1.0 0.5399\\n', '0.2 infomap 1.0 1.0 2.0 1.0 1.0 9.957\\n', '0.15 infomap 1.0 1.0 2.0 1.0 1.0 9.7736\\n', '0.35 attractor 1.0 1.0 2.0 1.0 1.0 0.6968\\n', '0.1 louvain 1.0 1.0 2.0 1.0 1.0 0.0028\\n']\n"
     ]
    }
   ],
   "source": [
    "for file in list:\n",
    "    if re.match('rcg.*measurement.*', file):\n",
    "        path = str(myDir) + '/' + str(file)\n",
    "        strings = file.split('_')\n",
    "        pout = strings[1]\n",
    "        i=0\n",
    "        algType=''\n",
    "        for string in strings:\n",
    "            i+=1\n",
    "            if i<4:\n",
    "                continue\n",
    "            algType += string + '_'\n",
    "        algType= algType[0:len(algType)-3]\n",
    "        \n",
    "        if re.match('.*attractor_new_rmtailor_5.*',algType) or \\\n",
    "        re.match('.*attractor_new_rmtailor_0.[^5].*',algType):\n",
    "            continue\n",
    "        if re.match('.*attractor',algType):\n",
    "            algType='attractor'\n",
    "        with open(path) as fs:\n",
    "            lines = fs.readlines()\n",
    "            for line in lines:\n",
    "                endTime=0\n",
    "                #print line\n",
    "                if re.match('startTime.*',line):\n",
    "                    startTime = float(line.split(':')[1].split('ns')[0])\n",
    "                elif re.match('endTime.*',line):\n",
    "                    endTime= float(line.split(':')[1].split('ns')[0])\n",
    "                elif re.match('ARI',line):\n",
    "                    ari = float(line.split(' ')[1])\n",
    "                elif re.match('InvPur',line):\n",
    "                    invp= float(line.split(' ')[1])\n",
    "                elif re.match('NMI',line):\n",
    "                    nmi= float(line.split(' ')[1])\n",
    "                elif re.match('SimPur',line):\n",
    "                    simp= float(line.split(' ')[1])\n",
    "                else:\n",
    "                    pass\n",
    "            fmeasure = (invp+simp)/(invp*simp)\n",
    "            newline=  str(pout)+\" \"+str(algType)+\" \"+str(round(ari,4))+\" \"+ str(round(nmi,4)) +\" \"+\\\n",
    "            str(round(fmeasure,4)) +\" \" + str(round(invp,4))+\" \"+str(round(simp,4))+\" \"+\\\n",
    "            str(round(endTime-startTime,4))\n",
    "            myContent.append(newline+'\\n')\n",
    "print myContent\n",
    "        \n",
    "            "
   ]
  },
  {
   "cell_type": "code",
   "execution_count": 20,
   "metadata": {
    "collapsed": false
   },
   "outputs": [],
   "source": [
    "with open(str(myDir)+'/'+'z_rcg_measurement_sum.txt', 'w') as fs:\n",
    "        fs.writelines(myContent)"
   ]
  },
  {
   "cell_type": "code",
   "execution_count": null,
   "metadata": {
    "collapsed": true
   },
   "outputs": [],
   "source": []
  }
 ],
 "metadata": {
  "kernelspec": {
   "display_name": "Python 2",
   "language": "python",
   "name": "python2"
  },
  "language_info": {
   "codemirror_mode": {
    "name": "ipython",
    "version": 2
   },
   "file_extension": ".py",
   "mimetype": "text/x-python",
   "name": "python",
   "nbconvert_exporter": "python",
   "pygments_lexer": "ipython2",
   "version": "2.7.10"
  }
 },
 "nbformat": 4,
 "nbformat_minor": 0
}

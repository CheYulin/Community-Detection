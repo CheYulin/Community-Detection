{
 "cells": [
  {
   "cell_type": "code",
   "execution_count": 1,
   "metadata": {
    "collapsed": true
   },
   "outputs": [],
   "source": [
    "import os\n",
    "import re"
   ]
  },
  {
   "cell_type": "code",
   "execution_count": 78,
   "metadata": {
    "collapsed": false
   },
   "outputs": [],
   "source": [
    "myDir = \"/home/cheyulin/Community-Detection/dataset/synthetic/test_case_5\"\n",
    "list = os.listdir(myDir)"
   ]
  },
  {
   "cell_type": "code",
   "execution_count": 80,
   "metadata": {
    "collapsed": false
   },
   "outputs": [
    {
     "name": "stdout",
     "output_type": "stream",
     "text": [
      "0.16 measurement_louvain 0.901914 0.954688 7.45161290323 0.0094165802002\n",
      "0.18 measurement_attractor_new_rmtailor_0.4 1.0 1.0 7.45161290323 2065.24848127\n",
      "0.12 measurement_attractor_new_rmtailor_5_0.4 1.0 1.0 7.45161290323 617.51069212\n",
      "0.18 measurement_attractor_new_rmtailor_0.5 1.0 1.0 7.45161290323 1851.09258628\n",
      "0.14 measurement_mcl 0.186936 1.93866e-16 7.45161290323 8.07229471207\n",
      "0.18 measurement_infomap 0.187891 0.0 7.45161290323 0.605193138123\n",
      "0.16 measurement_attractor_new_rmtailor_0.5 0.999217 0.998861 7.45161290323 1439.81778049\n",
      "0.14 measurement_attractor_new_rmtailor_0.5 1.0 1.0 7.45161290323 1101.26058173\n",
      "0.18 measurement_attractor_new_rmtailor_0.7 0.984218 0.977627 7.45161290323 1778.86011052\n",
      "0.1 measurement_mcl 0.18746 0.0 7.45161290323 6.92473125458\n",
      "0.2 measurement_attractor_new_rmtailor_0.7 0.98221 0.976106 7.45161290323 2207.61028552\n",
      "0.18 measurement_attractor_new_rmtailor_0.6 1.0 1.0 7.45161290323 1715.66201639\n",
      "0.18 measurement_louvain 0.796164 0.908977 7.45161290323 0.0114097595215\n",
      "0.16 measurement_attractor_new_rmtailor_0.6 0.999217 0.998861 7.45161290323 1337.32186842\n",
      "0.12 measurement_attractor_new_rmtailor_0.5 1.0 1.0 7.45161290323 869.645330429\n",
      "0.2 measurement_mcl 0.188082 0.0 7.45161290323 8.63341641426\n",
      "0.1 measurement_attractor_new_rmtailor_0.5 1.0 1.0 7.45161290323 611.923083544\n",
      "0.14 measurement_infomap 0.186936 1.93866e-16 7.45161290323 0.455811977386\n",
      "0.12 measurement_mcl 0.188672 0.0 7.45161290323 7.09608864784\n",
      "0.1 measurement_louvain 0.907158 0.966843 7.45161290323 0.0108308792114\n",
      "0.2 measurement_louvain 0.917322 0.94266 7.45161290323 0.0107271671295\n",
      "0.14 measurement_louvain 0.906337 0.9676 7.45161290323 0.00915837287903\n",
      "0.12 measurement_attractor_new_rmtailor_0.7 1.0 1.0 7.45161290323 956.531520605\n",
      "0.12 measurement_attractor_new_rmtailor_0.6 1.0 1.0 7.45161290323 905.388883114\n",
      "0.16 measurement_attractor_new_rmtailor_0.4 1.0 1.0 7.45161290323 1581.08993602\n",
      "0.16 measurement_infomap 0.185919 1.87599e-16 7.45161290323 0.542764663696\n",
      "0.2 measurement_infomap 0.188082 0.0 7.45161290323 0.547107458115\n",
      "0.16 measurement_attractor_new_rmtailor_0.7 0.989052 0.98439 7.45161290323 1415.93230939\n",
      "0.1 measurement_attractor_new_rmtailor_0.6 1.0 1.0 7.45161290323 677.425545692\n",
      "0.2 measurement_attractor_new_rmtailor_0.5 0.999481 0.998047 7.45161290323 2341.3280921\n",
      "0.12 measurement_attractor_new_rmtailor_5_0.5 1.0 1.0 7.45161290323 577.313777447\n",
      "0.12 measurement_attractor_new_rmtailor_0.4 1.0 1.0 7.45161290323 871.867132425\n",
      "0.14 measurement_attractor_new_rmtailor_5_0.6 0.999132 0.99879 7.45161290323 709.940724134\n",
      "0.14 measurement_attractor_new_rmtailor_0.4 1.0 1.0 7.45161290323 1168.22439861\n",
      "0.1 measurement_attractor_new_rmtailor_0.4 1.0 1.0 7.45161290323 599.901774645\n",
      "0.14 measurement_attractor_new_rmtailor_5_0.7 0.991422 0.988393 7.45161290323 693.57948041\n",
      "0.1 measurement_infomap 0.18746 0.0 7.45161290323 0.359541416168\n",
      "0.12 measurement_louvain 0.983301 0.986065 7.45161290323 0.00812268257141\n",
      "0.2 measurement_attractor_new_rmtailor_0.6 0.998846 0.997774 7.45161290323 2156.33564758\n",
      "0.12 measurement_attractor_new_rmtailor_5_0.6 1.0 1.0 7.45161290323 549.196925879\n",
      "0.18 measurement_mcl 0.187891 0.0 7.45161290323 8.49880409241\n",
      "0.14 measurement_attractor_new_rmtailor_5_0.4 1.0 1.0 7.45161290323 801.365083694\n",
      "0.2 measurement_attractor_new_rmtailor_0.4 0.776873 0.898343 7.45161290323 2689.28642154\n",
      "0.14 measurement_attractor_new_rmtailor_0.7 0.9933 0.990793 7.45161290323 1113.7608819\n",
      "0.16 measurement_mcl 0.185919 1.87599e-16 7.45161290323 8.15869164467\n",
      "0.14 measurement_attractor_new_rmtailor_5_0.5 1.0 1.0 7.45161290323 748.721440077\n",
      "0.12 measurement_attractor_new_rmtailor_5_0.7 0.99833 0.997522 7.45161290323 541.037092447\n",
      "0.14 measurement_attractor_new_rmtailor_0.6 0.999132 0.99879 7.45161290323 1074.55853534\n",
      "0.1 measurement_attractor_new_rmtailor_0.7 0.998319 0.997577 7.45161290323 746.100381851\n",
      "0.16 measurement_attractor_new_rmtailor_5_0.4 0.996696 0.993661 7.45161290323 1082.03490543\n",
      "0.12 measurement_infomap 0.188672 0.0 7.45161290323 0.428505182266\n"
     ]
    }
   ],
   "source": [
    "for file in list:\n",
    "    if re.match('grpg.*measurement.*', file):\n",
    "        path = str(myDir) + '/' + str(file)\n",
    "        strings = file.split('_')\n",
    "        pout = strings[2]\n",
    "        i=0\n",
    "        algType=''\n",
    "        for string in strings:\n",
    "            i+=1\n",
    "            if i<5:\n",
    "                continue\n",
    "            algType += string + '_'\n",
    "        algType= algType[0:len(algType)-3]\n",
    "\n",
    "        with open(path) as fs:\n",
    "            lines = fs.readlines()\n",
    "            for line in lines:\n",
    "                endTime=0\n",
    "                #print line\n",
    "                if re.match('startTime.*',line):\n",
    "                    startTime = float(line.split(':')[1].split('ns')[0])\n",
    "                elif re.match('endTime.*',line):\n",
    "                    endTime= float(line.split(':')[1].split('ns')[0])\n",
    "                elif re.match('ARI',line):\n",
    "                    ari = float(line.split(' ')[1])\n",
    "                elif re.match('InvPur',line):\n",
    "                    invp= float(line.split(' ')[1])\n",
    "                elif re.match('NMI',line):\n",
    "                    nmi= float(line.split(' ')[1])\n",
    "                elif re.match('SimPur',line):\n",
    "                    simp= float(line.split(' ')[1])\n",
    "                else:\n",
    "                    pass\n",
    "            newline=  str(pout)+\" \"+str(algType)+\" \"+str(ari)+\" \"+ str(nmi)+\" \"+str(fmeasure) +\" \" + str(endTime-startTime)\n",
    "            print newline\n",
    "            \n",
    "            "
   ]
  },
  {
   "cell_type": "code",
   "execution_count": null,
   "metadata": {
    "collapsed": true
   },
   "outputs": [],
   "source": []
  },
  {
   "cell_type": "code",
   "execution_count": null,
   "metadata": {
    "collapsed": true
   },
   "outputs": [],
   "source": []
  }
 ],
 "metadata": {
  "kernelspec": {
   "display_name": "Python 2",
   "language": "python",
   "name": "python2"
  },
  "language_info": {
   "codemirror_mode": {
    "name": "ipython",
    "version": 2
   },
   "file_extension": ".py",
   "mimetype": "text/x-python",
   "name": "python",
   "nbconvert_exporter": "python",
   "pygments_lexer": "ipython2",
   "version": "2.7.10"
  }
 },
 "nbformat": 4,
 "nbformat_minor": 0
}

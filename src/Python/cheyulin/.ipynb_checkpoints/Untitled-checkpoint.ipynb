{
 "cells": [
  {
   "cell_type": "code",
   "execution_count": 32,
   "metadata": {
    "collapsed": true
   },
   "outputs": [],
   "source": [
    "import os\n",
    "import re"
   ]
  },
  {
   "cell_type": "code",
   "execution_count": 33,
   "metadata": {
    "collapsed": false
   },
   "outputs": [],
   "source": [
    "myDir = \"/home/cheyulin/Community-Detection/dataset/synthetic/test_case_5\"\n",
    "list = os.listdir(myDir)\n",
    "myContent=[]\n",
    "myContent.append('[p_out] [algorithm] [ari] [nmi] [fmeasure] [invp] [simp] [runtime]\\n')"
   ]
  },
  {
   "cell_type": "code",
   "execution_count": 34,
   "metadata": {
    "collapsed": false,
    "scrolled": true
   },
   "outputs": [
    {
     "name": "stdout",
     "output_type": "stream",
     "text": [
      "['[p_out] [algorithm] [ari] [nmi] [fmeasure] [invp] [simp] [runtime]\\n', '0.16 louvain 0.901914 0.954688 2.16144018583 1.0 0.861 0.0094165802002\\n', '0.18 attractor 1.0 1.0 2.0 1.0 1.0 1851.09258628\\n', '0.14 mcl 0.236135 0.19389 4.70502582304 0.735 0.299 6.29894113541\\n', '0.18 infomap 0.187891 0.0 8.40740740741 1.0 0.135 37.5569238663\\n', '0.16 attractor 0.999217 0.998861 2.001001001 0.999 1.0 1439.81778049\\n', '0.14 attractor 1.0 1.0 2.0 1.0 1.0 1101.26058173\\n', '0.1 mcl 0.689491 0.684724 2.85528756957 0.539 1.0 5.04111480713\\n', '0.18 louvain 0.796164 0.908977 2.30819054348 0.999 0.765 0.0114097595215\\n', '0.12 attractor 1.0 1.0 2.0 1.0 1.0 869.645330429\\n', '0.2 mcl 0.188082 0.0 8.09219858156 1.0 0.141 6.928804636\\n', '0.1 attractor 1.0 1.0 2.0 1.0 1.0 611.923083544\\n', '0.14 infomap 0.186936 1.93866e-16 8.7519379845 1.0 0.129 30.9743080139\\n', '0.12 mcl 0.85872 0.745865 2.5037593985 0.665 1.0 5.32663273811\\n', '0.1 louvain 0.907158 0.966843 2.11111111111 1.0 0.9 0.0108308792114\\n', '0.2 louvain 0.917322 0.94266 2.1239089374 0.991 0.897 0.0107271671295\\n', '0.14 louvain 0.906337 0.9676 2.09289617486 1.0 0.915 0.00915837287903\\n', '0.12 mcl_0.00 0.188672 0.0 7.45161290323 1.0 0.155 8.07197237015\\n', '0.16 infomap 0.185919 1.87599e-16 9.13008130081 1.0 0.123 35.1873795986\\n', '0.2 infomap 0.188082 0.0 8.09219858156 1.0 0.141 39.1469550133\\n', '0.2 attractor 0.999481 0.998047 2.00200400802 0.998 1.0 2341.3280921\\n', '0.1 infomap 0.18746 0.0 8.04225352113 1.0 0.142 28.7873313427\\n', '0.12 louvain 0.983301 0.986065 2.04275286757 1.0 0.959 0.00812268257141\\n', '0.18 mcl 0.187891 0.0 8.40740740741 1.0 0.135 6.89093947411\\n', '0.16 mcl 0.185919 1.87599e-16 9.13008130081 1.0 0.123 6.50739622116\\n', '0.12 mcl_ 0.185919 1.87599e-16 9.13008130081 1.0 0.123 0.00151968002319\\n', '0.12 infomap 0.188672 0.0 7.45161290323 1.0 0.155 29.2503671646\\n']\n"
     ]
    }
   ],
   "source": [
    "for file in list:\n",
    "    if re.match('grpg.*measurement.*', file):\n",
    "        path = str(myDir) + '/' + str(file)\n",
    "        strings = file.split('_')\n",
    "        pout = strings[2]\n",
    "        i=0\n",
    "        algType=''\n",
    "        for string in strings:\n",
    "            i+=1\n",
    "            if i<5:\n",
    "                continue\n",
    "            algType += string + '_'\n",
    "        algType= algType[0:len(algType)-3]\n",
    "\n",
    "        if re.match('.*attractor_new_rmtailor_5.*',algType) or \\\n",
    "        re.match('.*attractor_new_rmtailor_0.[^5].*',algType):\n",
    "            continue\n",
    "        if re.match('.*attractor',algType):\n",
    "            algType='attractor'\n",
    "        with open(path) as fs:\n",
    "            lines = fs.readlines()\n",
    "            for line in lines:\n",
    "                endTime=0\n",
    "                #print line\n",
    "                if re.match('startTime.*',line):\n",
    "                    startTime = float(line.split(':')[1].split('ns')[0])\n",
    "                elif re.match('endTime.*',line):\n",
    "                    endTime= float(line.split(':')[1].split('ns')[0])\n",
    "                elif re.match('ARI',line):\n",
    "                    ari = float(line.split(' ')[1])\n",
    "                elif re.match('InvPur',line):\n",
    "                    invp= float(line.split(' ')[1])\n",
    "                elif re.match('NMI',line):\n",
    "                    nmi= float(line.split(' ')[1])\n",
    "                elif re.match('SimPur',line):\n",
    "                    simp= float(line.split(' ')[1])\n",
    "                else:\n",
    "                    pass\n",
    "            fmeasure = (invp+simp)/(invp*simp)\n",
    "            newline=  str(pout)+\" \"+str(algType)+\" \"+str(ari)+\" \"+ str(nmi) +\" \"+\\\n",
    "            str(fmeasure) +\" \" + str(invp)+\" \"+str(simp)+\" \"+str(endTime-startTime)\n",
    "            myContent.append(newline+'\\n')\n",
    "print myContent\n",
    "        \n",
    "            "
   ]
  },
  {
   "cell_type": "code",
   "execution_count": 35,
   "metadata": {
    "collapsed": false
   },
   "outputs": [],
   "source": [
    "with open(str(myDir)+'/'+'measurement_sum.txt', 'w') as fs:\n",
    "        fs.writelines(myContent)"
   ]
  },
  {
   "cell_type": "code",
   "execution_count": null,
   "metadata": {
    "collapsed": true
   },
   "outputs": [],
   "source": []
  }
 ],
 "metadata": {
  "kernelspec": {
   "display_name": "Python 2",
   "language": "python",
   "name": "python2"
  },
  "language_info": {
   "codemirror_mode": {
    "name": "ipython",
    "version": 2
   },
   "file_extension": ".py",
   "mimetype": "text/x-python",
   "name": "python",
   "nbconvert_exporter": "python",
   "pygments_lexer": "ipython2",
   "version": "2.7.10"
  }
 },
 "nbformat": 4,
 "nbformat_minor": 0
}
